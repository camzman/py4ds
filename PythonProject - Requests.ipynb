{
 "cells": [
  {
   "cell_type": "code",
   "execution_count": 11,
   "metadata": {},
   "outputs": [],
   "source": [
    "import requests\n",
    "from bs4 import BeautifulSoup\n",
    "import pandas as pd"
   ]
  },
  {
   "cell_type": "code",
   "execution_count": 12,
   "metadata": {},
   "outputs": [],
   "source": [
    "# Get URL\n",
    "URL = 'https://www.nwslsoccer.com/teams/ol-reign?statsSeason=2019&statsType=TEAM'\n",
    "page = requests.get(URL)"
   ]
  },
  {
   "cell_type": "code",
   "execution_count": 13,
   "metadata": {},
   "outputs": [],
   "source": [
    "# Initialize Soup Object\n",
    "soup = BeautifulSoup(page.content, 'html.parser')"
   ]
  },
  {
   "cell_type": "code",
   "execution_count": 29,
   "metadata": {},
   "outputs": [
    {
     "name": "stdout",
     "output_type": "stream",
     "text": [
      "<div class=\"jsx-1359749985 opta-widget-wrapper\">\n",
      " <iframe class=\"jsx-1359749985\" competitionid=\"djkvh1luqdkdixpoe653lzixg\" optaassetsprotocol=\"https://secure.\" scrolling=\"no\" seasonid=\"e5v9wk1zz2w8z5v83txy1w3fu\" src=\"/static/html/team-stats.html\" teamid=\"bl53jk6zlfe5f583pil7xzwi5\">\n",
      " </iframe>\n",
      "</div>\n"
     ]
    }
   ],
   "source": [
    "results = soup.find('div', class_='jsx-1359749985')\n",
    "#results = soup.find_all('section', class_='card-content')\n",
    "print(results.prettify())\n"
   ]
  },
  {
   "cell_type": "code",
   "execution_count": 6,
   "metadata": {},
   "outputs": [
    {
     "ename": "NameError",
     "evalue": "name 'results' is not defined",
     "output_type": "error",
     "traceback": [
      "\u001b[1;31m---------------------------------------------------------------------------\u001b[0m",
      "\u001b[1;31mNameError\u001b[0m                                 Traceback (most recent call last)",
      "\u001b[1;32m<ipython-input-6-5a4066c7bbc2>\u001b[0m in \u001b[0;36m<module>\u001b[1;34m\u001b[0m\n\u001b[1;32m----> 1\u001b[1;33m \u001b[0mjob_elems\u001b[0m \u001b[1;33m=\u001b[0m \u001b[0mresults\u001b[0m\u001b[1;33m.\u001b[0m\u001b[0mfind_all\u001b[0m\u001b[1;33m(\u001b[0m\u001b[1;34m'div'\u001b[0m\u001b[1;33m,\u001b[0m \u001b[0mclass_\u001b[0m\u001b[1;33m=\u001b[0m\u001b[1;34m'Opta-Flex-Item'\u001b[0m\u001b[1;33m)\u001b[0m\u001b[1;33m\u001b[0m\u001b[1;33m\u001b[0m\u001b[0m\n\u001b[0m",
      "\u001b[1;31mNameError\u001b[0m: name 'results' is not defined"
     ]
    }
   ],
   "source": [
    "job_elems = results.find_all('div', class_='Opta-Flex-Item')\n",
    "\n",
    "<div class=\"jsx-1359749985 opta-widget-wrapper\" style=\"height: 1933px;\"><iframe src=\"/static/html/team-stats.html\" competitionid=\"djkvh1luqdkdixpoe653lzixg\" seasonid=\"e5v9wk1zz2w8z5v83txy1w3fu\" teamid=\"bl53jk6zlfe5f583pil7xzwi5\" optaassetsprotocol=\"https://secure.\" scrolling=\"no\" class=\"jsx-1359749985\" style=\"height: 1933px;\"></iframe></div>\n",
    "<div class=\"Opta-Value Opta-JS-NumberAnimation\" data-start=\"0\">10</div>"
   ]
  },
  {
   "cell_type": "code",
   "execution_count": null,
   "metadata": {},
   "outputs": [],
   "source": [
    "<div class=\"jsx-1359749985 opta-widget-wrapper\" style=\"height: 1933px;\"><iframe src=\"/static/html/team-stats.html\" competitionid=\"djkvh1luqdkdixpoe653lzixg\" seasonid=\"e5v9wk1zz2w8z5v83txy1w3fu\" teamid=\"bl53jk6zlfe5f583pil7xzwi5\" optaassetsprotocol=\"https://secure.\" scrolling=\"no\" class=\"jsx-1359749985\" style=\"height: 1933px;\"></iframe></div>"
   ]
  }
 ],
 "metadata": {
  "kernelspec": {
   "display_name": "Python 3",
   "language": "python",
   "name": "python3"
  },
  "language_info": {
   "codemirror_mode": {
    "name": "ipython",
    "version": 3
   },
   "file_extension": ".py",
   "mimetype": "text/x-python",
   "name": "python",
   "nbconvert_exporter": "python",
   "pygments_lexer": "ipython3",
   "version": "3.7.4"
  }
 },
 "nbformat": 4,
 "nbformat_minor": 4
}
