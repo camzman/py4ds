{
 "cells": [
  {
   "cell_type": "markdown",
   "metadata": {},
   "source": [
    "# COVID-19 & Stay-at-Home Orders in the US"
   ]
  },
  {
   "cell_type": "markdown",
   "metadata": {},
   "source": [
    "#### Cameron Cofskey"
   ]
  },
  {
   "cell_type": "markdown",
   "metadata": {},
   "source": [
    "## Introduction "
   ]
  },
  {
   "cell_type": "markdown",
   "metadata": {},
   "source": [
    "### Sources"
   ]
  },
  {
   "cell_type": "markdown",
   "metadata": {},
   "source": [
    "This analysis focuses on the effectiveness of stay-at-home orders in the United States by state. The data comes from 2 sources: \n",
    "\n",
    "* *New York Times* - \"See Which States and Cities Have Told Residents to Stay at Home\" (https://www.nytimes.com/interactive/2020/us/coronavirus-stay-at-home-order.html)\n",
    "    * Provides stay-at-home order dates and population for each state\n",
    "* *Kaggle* - \"COVID-19 in USA\" (https://www.kaggle.com/sudalairajkumar/covid19-in-usa/version/32#us_states_covid19_daily.csv)\n",
    "    * Provides data on the number of cases, positive tests and deaths for each day & state"
   ]
  },
  {
   "cell_type": "markdown",
   "metadata": {},
   "source": [
    "### Abstract"
   ]
  },
  {
   "cell_type": "markdown",
   "metadata": {},
   "source": [
    "There are a several key assumptions that will be important to the understanding of this analysis. \n",
    "\n",
    "1. **Limited Disease Spread** - This is the idea that there will be a fixed number of COVID-19 cases in the United States. It can be helpful to think of this in terms of a fixed time period (e.g. the next year, 5 years, or until the eventual eradication of the disease). No matter the time period, there will be a fixed number of cases of COVID-19 contracted, though we do not yet know what this number will be. \n",
    "\n",
    "2. **Limited Healthcare Capacity** - This is the idea that at any given point in time, there is a maximum capacity of our healthcare system. Above this point, the quality of care will diminish or disappear altogether, leading to a greater number of higher severity cases and even death.\n",
    "\n",
    "3. **Flattening the Curve** - This idea has become a bit of a buzzword recently, but what does it really mean? In its simplest form, it is merely a combination of the first 2 statements above. There are (and will continue to be) cases of COVID-19 in the United States. The key to overcoming this disease and returning to some normalcy will require that the cases do not occur in too close of proximity to each other, due to the limited healthcare capacity. If we are able to spread out the cases over a longer time frame, it gives healthcare workers, scientists working on a vaccine, the government, and others more time to react to these unprecedented events. \n",
    "\n",
    "**Summary**: \n",
    "\n",
    "* **Goal** - Minimize the cumulative number of deaths\n",
    "* **Method** - Spreading out the number of positive cases over as long of a time frame as possible\n",
    "* **Metrics of Success** - The rate of increase in the number of positive cases & increase in the death rate. \n",
    "\n",
    "This analysis focuses on the metrics of success for each state."
   ]
  },
  {
   "cell_type": "markdown",
   "metadata": {},
   "source": [
    "## Import Packages"
   ]
  },
  {
   "cell_type": "code",
   "execution_count": null,
   "metadata": {},
   "outputs": [],
   "source": [
    "import requests # html reader\n",
    "from bs4 import BeautifulSoup # html parsing\n",
    "import pandas as pd # data frames\n",
    "import datetime # date calculations\n",
    "import matplotlib.pyplot as plt # plotting\n",
    "import seaborn as sns # pairs plot\n",
    "import fbprophet # forecasting\n",
    "import math # basic math functions\n",
    "import matplotlib.dates as mdates # date formatting\n",
    "from sklearn.linear_model import LinearRegression # model building\n",
    "from sklearn.model_selection import train_test_split # model test / train splitting"
   ]
  },
  {
   "cell_type": "markdown",
   "metadata": {},
   "source": [
    "## Scrape NYT article"
   ]
  },
  {
   "cell_type": "markdown",
   "metadata": {},
   "source": [
    "### Initialize Beautiful Soup Object"
   ]
  },
  {
   "cell_type": "code",
   "execution_count": null,
   "metadata": {},
   "outputs": [],
   "source": [
    "# Get URL\n",
    "URL = 'https://www.nytimes.com/interactive/2020/us/coronavirus-stay-at-home-order.html'\n",
    "page = requests.get(URL)"
   ]
  },
  {
   "cell_type": "code",
   "execution_count": null,
   "metadata": {},
   "outputs": [],
   "source": [
    "# Initialize Soup Object\n",
    "soup = BeautifulSoup(page.content, 'html.parser')"
   ]
  },
  {
   "cell_type": "markdown",
   "metadata": {},
   "source": [
    "### Parse HTML & Format Results"
   ]
  },
  {
   "cell_type": "code",
   "execution_count": null,
   "metadata": {},
   "outputs": [],
   "source": [
    "# Dig into list-wrap element of html, where state data exists\n",
    "results = soup.find('div', class_= 'list-wrap')"
   ]
  },
  {
   "cell_type": "code",
   "execution_count": null,
   "metadata": {},
   "outputs": [],
   "source": [
    "# Each state is divided by this header\n",
    "state_orders = results.find_all('div', class_='state-wrap statewide')"
   ]
  },
  {
   "cell_type": "code",
   "execution_count": null,
   "metadata": {},
   "outputs": [],
   "source": [
    "# Pull the specific elements where each data element is & extract the info\n",
    "\n",
    "# Initialize lists to store data\n",
    "State = []\n",
    "population_elem = []\n",
    "order_date_elem = []\n",
    "\n",
    "for state_orders in state_orders:\n",
    "    State.append(state_orders['data-state'])\n",
    "    population_elem.append(state_orders.find('span', class_='l-population').text)\n",
    "    order_date_elem.append(state_orders.find('span', class_='l-date').text)"
   ]
  },
  {
   "cell_type": "code",
   "execution_count": null,
   "metadata": {},
   "outputs": [],
   "source": [
    "# Format the population data into a list\n",
    "Population = []\n",
    "\n",
    "for population_elem in population_elem:\n",
    "    text = population_elem.split()\n",
    "    if text[2] == 'million':\n",
    "        Population.append(int(float(text[1]) * 1000000))\n",
    "    else:\n",
    "        Population.append(int(text[1].replace(',', '')))"
   ]
  },
  {
   "cell_type": "code",
   "execution_count": null,
   "metadata": {},
   "outputs": [],
   "source": [
    "# Format the date information into a list\n",
    "SAH_Month = []\n",
    "SAH_Day = []\n",
    "\n",
    "for order_date_elem in order_date_elem:\n",
    "    text = order_date_elem.split()\n",
    "    SAH_Month.append(text[2])\n",
    "    SAH_Day.append(text[3])\n",
    "\n",
    "# Reformat Month to number\n",
    "for i in range(len(SAH_Month)):\n",
    "    datetime_object = datetime.datetime.strptime(SAH_Month[i], \"%B\")\n",
    "    month_number = datetime_object.month\n",
    "    SAH_Month[i] = month_number"
   ]
  },
  {
   "cell_type": "code",
   "execution_count": null,
   "metadata": {},
   "outputs": [],
   "source": [
    "# Create the Year list to match the others\n",
    "SAH_Year = []\n",
    "for i in range(len(SAH_Month)):\n",
    "    SAH_Year.append(2020)"
   ]
  },
  {
   "cell_type": "code",
   "execution_count": null,
   "metadata": {},
   "outputs": [],
   "source": [
    "# Create date column\n",
    "date = pd.DataFrame({'year' : SAH_Year,\n",
    "                     'month' : SAH_Month,\n",
    "                     'day' : SAH_Day})\n",
    "Date = pd.to_datetime(date[['month', 'day', 'year']])"
   ]
  },
  {
   "cell_type": "markdown",
   "metadata": {},
   "source": [
    "### Store results in dataframe "
   ]
  },
  {
   "cell_type": "code",
   "execution_count": null,
   "metadata": {},
   "outputs": [],
   "source": [
    "# Create data frame\n",
    "dict = {'state' : State, \n",
    "        'SAH_Order_Date' : Date,\n",
    "        'Population' : Population\n",
    "       }\n",
    "SAH_data = pd.DataFrame(dict)\n",
    "\n",
    "# Sort by state name & then SAH Order date\n",
    "SAH_data = SAH_data.sort_values(by = ['state', 'SAH_Order_Date'], ascending= (True, True)) \n",
    "SAH_data.head()"
   ]
  },
  {
   "cell_type": "markdown",
   "metadata": {},
   "source": [
    "## Initialize Kaggle Data"
   ]
  },
  {
   "cell_type": "markdown",
   "metadata": {},
   "source": [
    "### Import Data"
   ]
  },
  {
   "cell_type": "code",
   "execution_count": null,
   "metadata": {},
   "outputs": [],
   "source": [
    "# Import data & look at features\n",
    "states = pd.read_csv('C:/Users/camco/Downloads/us_states_covid19_daily.csv')\n",
    "states.shape"
   ]
  },
  {
   "cell_type": "code",
   "execution_count": null,
   "metadata": {},
   "outputs": [],
   "source": [
    "states.head()"
   ]
  },
  {
   "cell_type": "markdown",
   "metadata": {},
   "source": [
    "### Format"
   ]
  },
  {
   "cell_type": "code",
   "execution_count": null,
   "metadata": {},
   "outputs": [],
   "source": [
    "# Replace NA's with 0's\n",
    "states.isna().sum()\n",
    "states = states.fillna(value = 0)\n",
    "states.isna().sum()"
   ]
  },
  {
   "cell_type": "code",
   "execution_count": null,
   "metadata": {},
   "outputs": [],
   "source": [
    "# Change date string to date\n",
    "states['date'] = pd.to_datetime(states['date'], format = '%Y%m%d')"
   ]
  },
  {
   "cell_type": "code",
   "execution_count": null,
   "metadata": {},
   "outputs": [],
   "source": [
    "# Sort values\n",
    "states = states.sort_values(by = ['state', 'date'], ascending= (True, False))"
   ]
  },
  {
   "cell_type": "markdown",
   "metadata": {},
   "source": [
    "### Reduce dataset to columns needed for analysis"
   ]
  },
  {
   "cell_type": "code",
   "execution_count": null,
   "metadata": {},
   "outputs": [],
   "source": [
    "# Reduce to columns used in analysis\n",
    "states_analysis = states[['date', 'state', 'positive', 'death', 'hospitalized', 'deathIncrease', 'hospitalizedIncrease', 'positiveIncrease']]\n",
    "states_analysis.head()"
   ]
  },
  {
   "cell_type": "markdown",
   "metadata": {},
   "source": [
    "## Join Datasets"
   ]
  },
  {
   "cell_type": "code",
   "execution_count": null,
   "metadata": {},
   "outputs": [],
   "source": [
    "# Join datasets\n",
    "data = pd.merge(states_analysis, SAH_data, on='state')\n",
    "data.shape"
   ]
  },
  {
   "cell_type": "markdown",
   "metadata": {},
   "source": [
    "The number of observations was reduced to 1792 because the NY Times article did not evaluate all states in the Kaggle dataset. I decided that this was acceptable since I need the stay-at-home order dates for each state in order to do my analysis."
   ]
  },
  {
   "cell_type": "code",
   "execution_count": null,
   "metadata": {},
   "outputs": [],
   "source": [
    "data.head()"
   ]
  },
  {
   "cell_type": "markdown",
   "metadata": {},
   "source": [
    "## Calculations"
   ]
  },
  {
   "cell_type": "markdown",
   "metadata": {},
   "source": [
    "### Reponse Time"
   ]
  },
  {
   "cell_type": "markdown",
   "metadata": {},
   "source": [
    "I calculated response time as the stay-at-home order date minus the date of the first case in the state (SAH_Order_Date - date_of_first_case). There were 2 reasons for this - 1) it puts each state's leaders on a level playing field by starting the clock once the corona virus hit their state and 2) I did not see evidence of an accurate 'time zero' reference for the United Sates since we don't really know when the first case appeared. "
   ]
  },
  {
   "cell_type": "code",
   "execution_count": null,
   "metadata": {},
   "outputs": [],
   "source": [
    "y = []\n",
    "z = []\n",
    "\n",
    "for i in range(len(SAH_data)):\n",
    "    name = SAH_data['state'].loc[i] # name of state\n",
    "    first_case_date = min(data['date'].loc[(data['state'] == name) & (data['positive'] > 0)]) # find date of first case for each state\n",
    "    y.append((SAH_data['SAH_Order_Date'].loc[i] - first_case_date).days) # save in a list\n",
    "    z.append(first_case_date)\n",
    "\n",
    "SAH_data['Response_time'] = pd.DataFrame(y) # Add to SAH dataset\n",
    "SAH_data['date_of_first_case'] = pd.DataFrame(z)"
   ]
  },
  {
   "cell_type": "code",
   "execution_count": null,
   "metadata": {},
   "outputs": [],
   "source": [
    "plt.style.use('ggplot')\n",
    "barplotdata = SAH_data.sort_values('Response_time', ascending = False)\n",
    "fig, ax = plt.subplots(1, 1, figsize = (20, 5))\n",
    "ax.bar(barplotdata['state'], barplotdata['Response_time'], color = 'darkblue')\n",
    "ax.set_title('Response Time by State')\n",
    "ax.set_xlabel('State')\n",
    "ax.set_ylabel('Response Time (days)');"
   ]
  },
  {
   "cell_type": "markdown",
   "metadata": {},
   "source": [
    "### Rate of Change of Death Increase (essentially a 2nd derivative of deaths)"
   ]
  },
  {
   "cell_type": "code",
   "execution_count": null,
   "metadata": {},
   "outputs": [],
   "source": [
    "# Calculate rate of change in death increases\n",
    "data['deathIncrease_ROC'] = data['deathIncrease'].diff(periods = -1)"
   ]
  },
  {
   "cell_type": "code",
   "execution_count": null,
   "metadata": {},
   "outputs": [],
   "source": [
    "# Fix last row in each state group\n",
    "last_row_index = data.groupby('state').tail(1).index\n",
    "for i in range(len(last_row_index)):\n",
    "    data.at[last_row_index[i], 'deathIncrease_ROC'] = 0"
   ]
  },
  {
   "cell_type": "markdown",
   "metadata": {},
   "source": [
    "I chose to analyze each death statistic per million people so the numbers would be more easily readable."
   ]
  },
  {
   "cell_type": "markdown",
   "metadata": {},
   "source": [
    "### Statistics by State Population"
   ]
  },
  {
   "cell_type": "code",
   "execution_count": null,
   "metadata": {},
   "outputs": [],
   "source": [
    "# Create statistics per million people\n",
    "data['deaths_per_M'] = data['death'] / (data['Population'] / 1000000) # Deaths\n",
    "data['death_rt_per_M'] = data['deathIncrease'] / (data['Population'] / 1000000) # Death rate\n",
    "data['deathIncrease_ROC_per_M'] = data['deathIncrease_ROC'] / (data['Population'] / 1000000) # ROC Death rate\n",
    "data['positive_rt_per_M'] = data['positiveIncrease'] / (data['Population'] / 1000000) # Positive case rate per M\n",
    "data['positive_per_M'] = data['positive'] / (data['Population'] / 1000000) # Positive per million\n",
    "data['hospitalized_per_M'] = data['hospitalized'] / (data['Population'] / 1000000)\n",
    "\n",
    "data.head()"
   ]
  },
  {
   "cell_type": "markdown",
   "metadata": {},
   "source": [
    "### Add Statistics by State to the SAH_data "
   ]
  },
  {
   "cell_type": "code",
   "execution_count": null,
   "metadata": {},
   "outputs": [],
   "source": [
    "# Get totals for each state\n",
    "max_deaths_rt = data.groupby('state', as_index = False)['deathIncrease_ROC'].max() # Maximum death rate by state\n",
    "total_deaths_per_M = data.groupby('state', as_index = False)['deaths_per_M'].max() # Maximum deaths per million\n",
    "max_death_rt_per_M = data.groupby('state', as_index = False)['death_rt_per_M'].max() # maximum death rate per million\n",
    "max_deathIncrease_ROC_per_M = data.groupby('state', as_index = False)['deathIncrease_ROC_per_M'].max() # Maximum death rate ROC (2nd der.)\n",
    "total_positive = data.groupby('state', as_index = False)['positive'].max() # Total positive cases\n",
    "total_positive_per_M = data.groupby('state', as_index = False)['positive_per_M'].max() # Total positive cases per million\n",
    "total_hospitalized = data.groupby('state', as_index = False)['hospitalized'].max() # Total positive cases\n",
    "total_hospitalized_per_M = data.groupby('state', as_index = False)['hospitalized_per_M'].max() # Total positive cases per million\n",
    "max_positive_rt_per_M = data.groupby('state', as_index = False)['positive_rt_per_M'].max() # maximum positive case rate per million\n",
    "\n",
    "# Add to SAH dataset\n",
    "SAH_data['max_deathIncrease_ROC'] = pd.DataFrame(max_deaths_rt['deathIncrease_ROC'])\n",
    "SAH_data['total_deaths_per_M'] = pd.DataFrame(total_deaths_per_M['deaths_per_M']) \n",
    "SAH_data['max_death_rt_per_M'] = pd.DataFrame(max_death_rt_per_M['death_rt_per_M'])\n",
    "SAH_data['max_deathIncrease_ROC_per_M'] = pd.DataFrame(max_deathIncrease_ROC_per_M['deathIncrease_ROC_per_M'])\n",
    "SAH_data['total_positive'] = pd.DataFrame(total_positive['positive'])\n",
    "SAH_data['total_positive_per_M'] = pd.DataFrame(total_positive_per_M['positive_per_M'])\n",
    "SAH_data['total_hospitalized'] = pd.DataFrame(total_hospitalized['hospitalized'])\n",
    "SAH_data['total_hospitalized_per_M'] = pd.DataFrame(total_hospitalized_per_M['hospitalized_per_M'])\n",
    "SAH_data['max_positive_rt_per_M'] = pd.DataFrame(max_positive_rt_per_M['positive_rt_per_M'])\n",
    "\n",
    "SAH_data"
   ]
  },
  {
   "cell_type": "markdown",
   "metadata": {},
   "source": [
    "## Plot Positive Case Rate by State"
   ]
  },
  {
   "cell_type": "markdown",
   "metadata": {},
   "source": [
    "I thought it would be helpful to visualize the positive case rate per million by state and to include the stay-at-home order date on the plot as well."
   ]
  },
  {
   "cell_type": "code",
   "execution_count": null,
   "metadata": {},
   "outputs": [],
   "source": [
    "# Plot parameters\n",
    "mindate_1 = min(data['date'])\n",
    "maxdate_1 = max(data['date'])\n",
    "min_roc_1 = min(data['positive_rt_per_M'])\n",
    "max_roc_1 = max(data['positive_rt_per_M'])"
   ]
  },
  {
   "cell_type": "code",
   "execution_count": null,
   "metadata": {},
   "outputs": [],
   "source": [
    "# Plot parameters 2\n",
    "index = 0\n",
    "states_used = []\n",
    "plt.style.use('ggplot')\n",
    "fig_rows = math.ceil((len(SAH_data) / 5))\n",
    "myFmt = mdates.DateFormatter('%m-%d')\n",
    "\n",
    "# Plots\n",
    "fig, ax = plt.subplots(fig_rows, 5, figsize = (25, 25))\n",
    "for i in range(fig_rows):\n",
    "    for j in range(5):\n",
    "        name = SAH_data['state'][index] # name of the state\n",
    "        SAHorder = SAH_data['SAH_Order_Date'][index] # Date of the SAH order in that state\n",
    "        plot_data = data.loc[data['state'] == name] # Data filtered to that state\n",
    "        centerrate = max(plot_data['positive_rt_per_M']) / 2 # Center of the y-axis for each state\n",
    "        ax[i, j].plot(plot_data['date'], plot_data['positive_rt_per_M']) # Plot deathIncrease over time\n",
    "        ax[i, j].set_xlim([mindate_1, maxdate_1]) # set x axis range\n",
    "        ax[i, j].set_ylim([min_roc_1, max_roc_1])\n",
    "        ax[i, j].axvline(SAHorder,  label='SAH Order', color='black') # Plot vertical line for SAH order\n",
    "        ax[i, j].xaxis.set_major_formatter(myFmt) # Format X-axis\n",
    "        ax[i, j].text(mindate_1 + datetime.timedelta(days=3), centerrate, name, verticalalignment='center', horizontalalignment='left', fontsize = 18) # Put name of state on the chart\n",
    "        ax[i, j].legend() # label the black line as the Stay at Home Order\n",
    "        states_used.append(name) # check to make sure all states were used\n",
    "        if index == (len(SAH_data)-1): # Loop to stop the plotting if the end of the \n",
    "            break\n",
    "        else:\n",
    "            index = index + 1\n",
    "fig.suptitle('Rate of Positive Tests by State (per million people)', fontsize=24);"
   ]
  },
  {
   "cell_type": "markdown",
   "metadata": {},
   "source": [
    "## Plot Death Rate by State"
   ]
  },
  {
   "cell_type": "markdown",
   "metadata": {},
   "source": [
    "I thought it would be helpful to visualize the death rate per million by state and to include the stay-at-home order date on the plot as well."
   ]
  },
  {
   "cell_type": "code",
   "execution_count": null,
   "metadata": {},
   "outputs": [],
   "source": [
    "# Plot parameters\n",
    "mindate = min(data['date'])\n",
    "maxdate = max(data['date'])\n",
    "min_roc = min(data['death_rt_per_M'])\n",
    "max_roc = max(data['death_rt_per_M'])"
   ]
  },
  {
   "cell_type": "code",
   "execution_count": null,
   "metadata": {},
   "outputs": [],
   "source": [
    "# Plot parameters 2\n",
    "index = 0\n",
    "states_used = []\n",
    "plt.style.use('ggplot')\n",
    "fig_rows = math.ceil((len(SAH_data) / 5))\n",
    "myFmt = mdates.DateFormatter('%m-%d')\n",
    "\n",
    "# Plots\n",
    "fig, ax = plt.subplots(fig_rows, 5, figsize = (25, 25))\n",
    "for i in range(fig_rows):\n",
    "    for j in range(5):\n",
    "        name = SAH_data['state'][index] # name of the state\n",
    "        SAHorder = SAH_data['SAH_Order_Date'][index] # Date of the SAH order in that state\n",
    "        plot_data = data.loc[data['state'] == name] # Data filtered to that state\n",
    "        centerrate = max(plot_data['death_rt_per_M']) / 2 # Center of the y-axis for each state\n",
    "        ax[i, j].plot(plot_data['date'], plot_data['death_rt_per_M']) # Plot deathIncrease over time\n",
    "        ax[i, j].set_xlim([mindate, maxdate]) # set x axis range\n",
    "        ax[i, j].set_ylim([min_roc, max_roc])\n",
    "        ax[i, j].axvline(SAHorder,  label='SAH Order', color='black') # Plot vertical line for SAH order\n",
    "        ax[i, j].xaxis.set_major_formatter(myFmt) # Format X-axis\n",
    "        ax[i, j].text(mindate + datetime.timedelta(days=3), centerrate, name, verticalalignment='center', horizontalalignment='left', fontsize = 18) # Put name of state on the chart\n",
    "        ax[i, j].legend() # label the black line as the Stay at Home Order\n",
    "        states_used.append(name) # check to make sure all states were used\n",
    "        if index == (len(SAH_data)-1): # Loop to stop the plotting if the end of the \n",
    "            break\n",
    "        else:\n",
    "            index = index + 1\n",
    "fig.suptitle('Change in Death Rate by State (per million people)', fontsize=24);"
   ]
  },
  {
   "cell_type": "markdown",
   "metadata": {},
   "source": [
    "## Modeling"
   ]
  },
  {
   "cell_type": "markdown",
   "metadata": {},
   "source": [
    "### Positive Cases vs. Response Time"
   ]
  },
  {
   "cell_type": "code",
   "execution_count": null,
   "metadata": {},
   "outputs": [],
   "source": [
    "SAH_data"
   ]
  },
  {
   "cell_type": "code",
   "execution_count": null,
   "metadata": {},
   "outputs": [],
   "source": [
    "y = SAH_data[['total_positive_per_M']]\n",
    "X = SAH_data[['Response_time']]\n",
    "Xtrain, Xtest, ytrain, ytest = train_test_split(X, y, test_size = 0.20, random_state = 7335786)\n",
    "model = LinearRegression(fit_intercept = True)\n",
    "model.fit(Xtrain, ytrain)\n",
    "model.score(Xtest, ytest)"
   ]
  },
  {
   "cell_type": "code",
   "execution_count": null,
   "metadata": {},
   "outputs": [],
   "source": [
    "y = SAH_data[['max_positive_rt_per_M']]\n",
    "X = SAH_data[['Response_time']]\n",
    "Xtrain, Xtest, ytrain, ytest = train_test_split(X, y, test_size = 0.20, random_state = 7335786)\n",
    "model = LinearRegression(fit_intercept = True)\n",
    "model.fit(Xtrain, ytrain)\n",
    "model.score(Xtest, ytest)"
   ]
  },
  {
   "cell_type": "markdown",
   "metadata": {},
   "source": [
    "### Deaths vs. Response Time"
   ]
  },
  {
   "cell_type": "code",
   "execution_count": null,
   "metadata": {},
   "outputs": [],
   "source": [
    "y = SAH_data[['total_deaths_per_M']]\n",
    "X = SAH_data[['Response_time']]\n",
    "Xtrain, Xtest, ytrain, ytest = train_test_split(X, y, test_size = 0.20, random_state = 7335786)\n",
    "model = LinearRegression(fit_intercept = True)\n",
    "model.fit(Xtrain, ytrain)\n",
    "model.score(Xtest, ytest)"
   ]
  },
  {
   "cell_type": "code",
   "execution_count": null,
   "metadata": {},
   "outputs": [],
   "source": [
    "y = SAH_data[['max_death_rt_per_M']]\n",
    "X = SAH_data[['Response_time']]\n",
    "Xtrain, Xtest, ytrain, ytest = train_test_split(X, y, test_size = 0.20, random_state = 7335786)\n",
    "model = LinearRegression(fit_intercept = True)\n",
    "model.fit(Xtrain, ytrain)\n",
    "model.score(Xtest, ytest)"
   ]
  },
  {
   "cell_type": "markdown",
   "metadata": {},
   "source": [
    "### Pairs plot to emphasize the lack of relationship"
   ]
  },
  {
   "cell_type": "code",
   "execution_count": null,
   "metadata": {},
   "outputs": [],
   "source": [
    "pairs_data = SAH_data[['Response_time', 'total_deaths_per_M', 'total_positive_per_M', 'total_hospitalized_per_M']]\n",
    "plt.style.use('ggplot')\n",
    "sns.pairplot(data = pairs_data, kind = 'reg');"
   ]
  },
  {
   "cell_type": "markdown",
   "metadata": {},
   "source": [
    "## Conclusion"
   ]
  },
  {
   "cell_type": "markdown",
   "metadata": {},
   "source": [
    "##### After running multiple linear models on this dataset, it appears that  ***there is no relationship between a state's response times and key statistics about the outcomes of COVID-19***.\n",
    "\n",
    "This conclusion does not mean that the stay-at-home orders are ineffective - it may still be too soon to tell what the effects of the preventative measures were. What it does tell us is that simply ordering people to stay at home is not the silver bullet for this pandemic. This could be due to the way each order was communicated, the people's response to state leadership, and many other social or economic factors, but it is hard to tell at this point. "
   ]
  },
  {
   "cell_type": "markdown",
   "metadata": {},
   "source": [
    "## Future Analysis"
   ]
  },
  {
   "cell_type": "markdown",
   "metadata": {},
   "source": [
    "One thing I did notice in the analysis was the positive relationship between the number of positive cases and the number of deaths. I'm wondering if this says anything about the testing procedures or treatment, or if this just means that people with the most severe symptoms are being tested. It could be worth looking into at some point in the future.  "
   ]
  }
 ],
 "metadata": {
  "kernelspec": {
   "display_name": "Python 3",
   "language": "python",
   "name": "python3"
  },
  "language_info": {
   "codemirror_mode": {
    "name": "ipython",
    "version": 3
   },
   "file_extension": ".py",
   "mimetype": "text/x-python",
   "name": "python",
   "nbconvert_exporter": "python",
   "pygments_lexer": "ipython3",
   "version": "3.7.4"
  }
 },
 "nbformat": 4,
 "nbformat_minor": 4
}
